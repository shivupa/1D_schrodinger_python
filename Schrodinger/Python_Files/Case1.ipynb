{
 "cells": [
  {
   "cell_type": "markdown",
   "metadata": {},
   "source": [
    "# Schrodinger Solver"
   ]
  },
  {
   "cell_type": "code",
   "execution_count": null,
   "metadata": {
    "collapsed": false,
    "jupyter": {
     "outputs_hidden": false
    }
   },
   "outputs": [],
   "source": [
    "%matplotlib widget\n",
    "import numpy as np"
   ]
  },
  {
   "cell_type": "markdown",
   "metadata": {},
   "source": [
    "## Note about units\n",
    "We will be using atomic units throughout."
   ]
  },
  {
   "cell_type": "code",
   "execution_count": null,
   "metadata": {},
   "outputs": [],
   "source": [
    "# atomic units\n",
    "hbar=1.0\n",
    "m=1.0\n",
    "#set precision of numerical approximation\n",
    "steps=2000"
   ]
  },
  {
   "cell_type": "markdown",
   "metadata": {},
   "source": [
    "## Particle in an infinite potential well"
   ]
  },
  {
   "cell_type": "code",
   "execution_count": null,
   "metadata": {
    "collapsed": false,
    "jupyter": {
     "outputs_hidden": false
    }
   },
   "outputs": [],
   "source": [
    "########\n",
    "# PARTICLE IN AN INFINITE POTENTIAL WELL\n",
    "########\n",
    "Case=1\n",
    "########\n",
    "# INPUT\n",
    "########\n",
    "# set well width and number of wave functions desired\n",
    "W=1.0 # this value must be between 0.5 and 15\n",
    "n=7 # this value must be any integer greater than or equal to 1\n",
    "########\n",
    "# CODE\n",
    "########\n",
    "# divide by two so a well from -W to W is of input width\n",
    "W=W / 2.0\n",
    "# create x-vector from -W to W\n",
    "xvec=np.linspace(-W,W,steps,dtype=np.float_)\n",
    "# get step size\n",
    "h=xvec[1]-xvec[0]\n",
    "# create Laplacian via 3 point finite-difference method\n",
    "Laplacian=(-2.0*np.diag(np.ones(steps))+np.diag(np.ones(steps-1),1)\\\n",
    "    +np.diag(np.ones(steps-1),-1))/(float)(h**2)\n",
    "# create Hamiltonian\n",
    "Hamiltonian=((-0.5*(hbar**2)/m))*Laplacian\n",
    "# diagonalize the Hamiltonian yielding the wavefunctions and energies\n",
    "E,V=diagonalize_hamiltonian(Hamiltonian)\n",
    "# print output\n",
    "output(Case,['Well Width','Number of wavefunctions to plot'],[W*2,n],E,n)\n",
    "# create plot\n",
    "infinite_well_plot(E,V,xvec,W,steps,n,Case)"
   ]
  },
  {
   "cell_type": "code",
   "execution_count": null,
   "metadata": {},
   "outputs": [],
   "source": []
  }
 ],
 "metadata": {
  "anaconda-cloud": {},
  "kernelspec": {
   "display_name": "Python 3",
   "language": "python",
   "name": "python3"
  },
  "language_info": {
   "codemirror_mode": {
    "name": "ipython",
    "version": 3
   },
   "file_extension": ".py",
   "mimetype": "text/x-python",
   "name": "python",
   "nbconvert_exporter": "python",
   "pygments_lexer": "ipython3",
   "version": "3.8.5"
  }
 },
 "nbformat": 4,
 "nbformat_minor": 4
}
